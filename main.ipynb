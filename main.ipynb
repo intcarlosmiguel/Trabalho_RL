{
 "cells": [
  {
   "cell_type": "markdown",
   "metadata": {},
   "source": [
    "Esse aqui é o trabalho da Cadeira de Introdução a Modelagem. Nesse trabalho foi necessário resolver 2 questões no âmbito de Regressão Linear. Primeiro será importado as bibliotecas do Python para realizar os cálculos."
   ]
  },
  {
   "cell_type": "code",
   "execution_count": null,
   "metadata": {},
   "outputs": [],
   "source": [
    "import numpy as np\n",
    "import matplotlib.pyplot as plt\n",
    "%load_ext autoreload\n",
    "%autoreload 2"
   ]
  },
  {
   "cell_type": "markdown",
   "metadata": {},
   "source": [
    "Agora criaremos a função do cálculo de Mínimos Quadrados. Essa função retorna os coeficientes, o Coeficiente de Determinação e o Coeficiente de Determinação Ajustado. "
   ]
  },
  {
   "cell_type": "code",
   "execution_count": null,
   "metadata": {},
   "outputs": [],
   "source": [
    "def MMQ(x,y):\n",
    "\n",
    "    try: \n",
    "        x = np.vstack((np.ones(x.shape[1]),x)).T\n",
    "    except:\n",
    "        x = np.vstack((np.ones(x.shape[0]),x)).T\n",
    "\n",
    "    b = np.dot(np.linalg.inv(np.dot(x.T,x)),np.dot(x.T,y))\n",
    "\n",
    "    #print('Os coeficientes da sua regressão são: ', b)\n",
    "\n",
    "    y_ = np.dot(b,x.T)\n",
    "    r2 = 1 - (np.dot(y - y_,y - y_)/np.dot(y - np.mean(y),y - np.mean(y)))\n",
    "\n",
    "    #print('O Coeficiente de Determinação foi calculado como:', r2)\n",
    "\n",
    "    r2A = 1 - ((x.shape[0] - 1)*np.dot(y - y_,y - y_))/((x.shape[0] - x.shape[1] - 1)*np.dot(y - np.mean(y),y - np.mean(y)))\n",
    "    \n",
    "    #print('O Coeficiente de Determinação Ajustado foi calculado como:', r2A)\n",
    "    return b,r2,r2A"
   ]
  },
  {
   "cell_type": "markdown",
   "metadata": {},
   "source": [
    "# Questão 4\n",
    "In exercise physiology, an objective measure of aerobic fitness is the oxygen consumption in volume per unit body weight per unit time by individual. To determine if it is feasible to predict this fitness measure, an experiment was conducted in which 31 individuals were tested. The following factors were studied:\n",
    "- X1: age in years\n",
    "- X2: weight in kilograms\n",
    "- X3: time to run 1 ½ miles\n",
    "- X4: resting pulse rate\n",
    "- X5: pulse rate at the end of run\n",
    "- X6: maximum pulse rate during run\n",
    "- Y: oxygen consumption in millilitres (ml) per kilogram (kg) body weight per minute"
   ]
  },
  {
   "cell_type": "markdown",
   "metadata": {},
   "source": [
    "Será carregado os dados da questão:"
   ]
  },
  {
   "cell_type": "code",
   "execution_count": null,
   "metadata": {},
   "outputs": [],
   "source": [
    "r = np.loadtxt('Q4.txt',dtype=str)\n",
    "r = np.array([[i.replace(',','.')for i in j] for j in r]).astype(float)\n",
    "r = r[:,0:]\n",
    "Y = r[:,1]\n",
    "X = r[:,2:]"
   ]
  },
  {
   "cell_type": "markdown",
   "metadata": {},
   "source": [
    "Seguem aqui os gráficos de cada variável em função do Consumo de Oxigênio. Percebe-se que o Tempo para percorrer uma 1 milha e a Pulsação em repouso são as melhores variáveis."
   ]
  },
  {
   "cell_type": "code",
   "execution_count": null,
   "metadata": {},
   "outputs": [],
   "source": [
    "label = [\n",
    "    'Idade (Anos)',\n",
    "    'Peso (kg)',\n",
    "    'Tempo para percorrer 1 milha',\n",
    "    'Pulsação em repouso',\n",
    "    'Pulsação em repouso no final',\n",
    "    'Máxima Pulsação',\n",
    "]\n",
    "for i in range(X.shape[1]):\n",
    "    x = X[:,i]\n",
    "    plt.figure(figsize=(8,8))\n",
    "    plt.scatter(x,Y)\n",
    "    plt.xlabel(label[i])\n",
    "    plt.ylabel(\"Consumo de Oxigênio (ml/kgmin)\")\n",
    "    plt.title(\"Consumo de Oxigênio (ml/kgmin) em função de \" +label[i])\n",
    "    plt.show()"
   ]
  },
  {
   "cell_type": "markdown",
   "metadata": {},
   "source": [
    "Agora quais serão as melhores variáveis representam a variável y? Para isso criaremos a seguinte função `best_MMQ`. Da coleção de variáveis x_i escolhemos o x_i com o melhor r², que chamaremos de x'_1. Sabendo que essa é a melhor variável vamos agora escolher a melhor variável x_i, baseado no r², para entrar no modelo, ou seja calcular x_i|x'_1. Se todos os r² forem menores que o r² com apenas x'_1 é retornado o modelo apenas com x'_1, caso contrário será escolhido a melhor variável desse grupo, x'_2, e será adicionado ao modelo e assim sucessivamente. Ao final, retornará quais as melhores variáveis para o modelo e será printado também o histórico do r² e quanto de adesão de uma nova variável foi signifcante no r²."
   ]
  },
  {
   "cell_type": "code",
   "execution_count": null,
   "metadata": {},
   "outputs": [],
   "source": [
    "def best_MMQ(Y,X):\n",
    "    vetor = []\n",
    "    historico = []\n",
    "    r_historico = []\n",
    "    while(True):\n",
    "        r_max = 0\n",
    "        max_ = 0\n",
    "        for i in range(X.shape[1]):\n",
    "            if(len(vetor)==0):\n",
    "                x = X[:,i]\n",
    "            else:\n",
    "                v_ = np.copy(vetor)\n",
    "                v_ = list(v_)\n",
    "                if(i in vetor):\n",
    "                    continue\n",
    "                else:\n",
    "                    v_.append(i)\n",
    "                x = X[:,v_]\n",
    "            _,r2,__ = MMQ(x.T,Y)\n",
    "            if(r2 > r_max):\n",
    "                r_max = r2\n",
    "                max_ = i\n",
    "        \n",
    "        if((len(vetor)==0) or (r_max > r_historico[len(vetor)-1])):\n",
    "            vetor.append(max_)\n",
    "            historico.append(vetor)\n",
    "            r_historico.append(r_max)\n",
    "            if(len(r_historico)>1):\n",
    "                print(r_historico[-1],\"{:.1f}\".format((r_historico[-1] - r_historico[-2])/r_historico[-2]*100) + '%')\n",
    "        else:\n",
    "            break\n",
    "    return historico[-1],r_historico[-1]"
   ]
  },
  {
   "cell_type": "code",
   "execution_count": null,
   "metadata": {},
   "outputs": [],
   "source": [
    "variaveis,r2 = best_MMQ(Y,X)\n",
    "print(variaveis)"
   ]
  },
  {
   "cell_type": "markdown",
   "metadata": {},
   "source": [
    "Podemos perceber que a adesão da última variável foi pouco significativa no modelo e poderíamos até retirá-la. Como foi previsto as variáveis 2 foram as que tiveram maior significância no modelo."
   ]
  },
  {
   "cell_type": "code",
   "execution_count": null,
   "metadata": {},
   "outputs": [],
   "source": [
    "coeficientes,r2,r2A = MMQ(X[:,variaveis[:-1]].T,Y)\n",
    "print('Os coeficientes da sua regressão são: ', coeficientes)\n",
    "print('O Coeficiente de Determinação foi calculado como:', r2)\n",
    "print('O Coeficiente de Determinação Ajustado foi calculado como:', r2A)"
   ]
  },
  {
   "cell_type": "markdown",
   "metadata": {},
   "source": [
    "# Questão 5"
   ]
  },
  {
   "cell_type": "markdown",
   "metadata": {},
   "source": [
    "In an effort to develop a preliminary personnel equation for estimation of worker-hours per month expended in surgical services at Naval hospitals, the U.S. Navy collected data on y (worker-hours per month) and x (surgical cases) from 15 hospitals. The data (taken from the Navy's Procedures and Analyses for Staffing Standards Development: Data/Regression Analysis Handbook) are shown in the Table 12 below.\n",
    "\n",
    "Fit the following models to these data.\n",
    "- 𝑦 = β𝑜 + β1𝑋 + ε\n",
    "- 𝑙𝑛⁡(𝑦) = β𝑜 + β1𝑋⁻¹ + ε\n",
    "- 𝑦 = β𝑜 + β1𝑋 + β2𝑋² + ε\n",
    "- Comment on the adequacy of each of these models"
   ]
  },
  {
   "cell_type": "markdown",
   "metadata": {},
   "source": [
    "Vamos carregar os dados:"
   ]
  },
  {
   "cell_type": "code",
   "execution_count": null,
   "metadata": {},
   "outputs": [],
   "source": [
    "y = np.array([1275,\n",
    "1350,\n",
    "1650,\n",
    "2000,\n",
    "3750,\n",
    "4222,\n",
    "5018,\n",
    "6125,\n",
    "6200,\n",
    "8150,\n",
    "9975,\n",
    "12200,\n",
    "12750,\n",
    "13014,\n",
    "13275])\n",
    "x = np.array([\n",
    "    230,\n",
    "235,\n",
    "250,\n",
    "277,\n",
    "522,\n",
    "545,\n",
    "625,\n",
    "713,\n",
    "735,\n",
    "820,\n",
    "992,\n",
    "1322,\n",
    "1900,\n",
    "2022,\n",
    "2155\n",
    "])"
   ]
  },
  {
   "cell_type": "markdown",
   "metadata": {},
   "source": [
    "Primeiro vamos analisar graficamente como se comporta a variável preditora em função dos dados. Tanto no caso liner quanto no caso log."
   ]
  },
  {
   "cell_type": "code",
   "execution_count": null,
   "metadata": {},
   "outputs": [],
   "source": [
    "plt.figure(figsize=(8,8))\n",
    "plt.ylabel(\"Horas-Trabalho por Mês.\")\n",
    "plt.xlabel(\"Número de Casos Cirúrgicos.\")\n",
    "plt.plot(x,y)\n",
    "plt.show()"
   ]
  },
  {
   "cell_type": "code",
   "execution_count": null,
   "metadata": {},
   "outputs": [],
   "source": [
    "plt.figure(figsize=(8,8))\n",
    "plt.ylabel(\"Logaritmo das Horas-Trabalho por Mês.\")\n",
    "plt.xlabel(\"Logaritmo dos Números de Casos Cirúrgicos.\")\n",
    "plt.plot(np.log(x),np.log(y))\n",
    "plt.show()"
   ]
  },
  {
   "cell_type": "markdown",
   "metadata": {},
   "source": [
    "Percebemos que o gráfico logy vs logx apresenta a melhor configuração de uma reta. Agora iremos aplicar os Mínimos Quadrados r ver como fica."
   ]
  },
  {
   "cell_type": "code",
   "execution_count": null,
   "metadata": {},
   "outputs": [],
   "source": [
    "coeficientes,r2,r2A = MMQ(x,y)\n",
    "print('Os coeficientes da sua regressão são: ', coeficientes)\n",
    "print('O Coeficiente de Determinação foi calculado como:', r2)\n",
    "print('O Coeficiente de Determinação Ajustado foi calculado como:', r2A)\n",
    "plt.figure(figsize=(8,8))\n",
    "plt.ylabel(\"Horas-Trabalho por Mês.\")\n",
    "plt.xlabel(\"Número de Casos Cirúrgicos.\")\n",
    "plt.scatter(x,y,label = 'dados')\n",
    "plt.plot(x,np.dot(np.vstack((np.ones(x.shape[0]),x)).T,coeficientes),label = 'Regressão',c = 'green')\n",
    "plt.legend()\n",
    "plt.show()"
   ]
  },
  {
   "cell_type": "code",
   "execution_count": null,
   "metadata": {},
   "outputs": [],
   "source": [
    "coeficientes,r2,r2A = MMQ(np.log(x),np.log(y))\n",
    "print('Os coeficientes da sua regressão são: ', coeficientes)\n",
    "print('O Coeficiente de Determinação foi calculado como:', r2)\n",
    "print('O Coeficiente de Determinação Ajustado foi calculado como:', r2A)\n",
    "plt.figure(figsize=(8,8))\n",
    "plt.ylabel(\"Horas-Trabalho por Mês.\")\n",
    "plt.xlabel(\"Número de Casos Cirúrgicos.\")\n",
    "plt.scatter(np.log(x),np.log(y),label = 'dados')\n",
    "plt.plot(np.log(x),np.dot(np.vstack((np.ones(np.log(x).shape[0]),np.log(x))).T,coeficientes),label = 'Regressão',c = 'green')\n",
    "plt.legend()\n",
    "plt.show()"
   ]
  },
  {
   "cell_type": "code",
   "execution_count": null,
   "metadata": {},
   "outputs": [],
   "source": [
    "x_ = np.vstack((x,x**2))\n",
    "coeficientes,r2,r2A = MMQ(x_,y)\n",
    "print('Os coeficientes da sua regressão são: ', coeficientes)\n",
    "print('O Coeficiente de Determinação foi calculado como:', r2)\n",
    "print('O Coeficiente de Determinação Ajustado foi calculado como:', r2A)\n",
    "plt.figure(figsize=(8,8))\n",
    "plt.ylabel(\"Horas-Trabalho por Mês.\")\n",
    "plt.xlabel(\"Número de Casos Cirúrgicos.\")\n",
    "plt.scatter(x,y,label = 'dados')\n",
    "plt.plot(x,np.dot( np.vstack((np.ones(x_.shape[1]),x_)).T ,coeficientes),label = 'Regressão',c = 'green')\n",
    "plt.legend()\n",
    "plt.show()"
   ]
  },
  {
   "cell_type": "markdown",
   "metadata": {},
   "source": [
    "Portanto, não só visualmente mas vendo os valores de R² e do R² Ajustado, vemos que o melhr fit é usando o x²."
   ]
  }
 ],
 "metadata": {
  "kernelspec": {
   "display_name": "Python 3 (ipykernel)",
   "language": "python",
   "name": "python3"
  },
  "language_info": {
   "codemirror_mode": {
    "name": "ipython",
    "version": 3
   },
   "file_extension": ".py",
   "mimetype": "text/x-python",
   "name": "python",
   "nbconvert_exporter": "python",
   "pygments_lexer": "ipython3",
   "version": "3.10.6"
  },
  "vscode": {
   "interpreter": {
    "hash": "916dbcbb3f70747c44a77c7bcd40155683ae19c65e1c03b4aa3499c5328201f1"
   }
  }
 },
 "nbformat": 4,
 "nbformat_minor": 2
}
